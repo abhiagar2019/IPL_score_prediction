{
 "cells": [
  {
   "cell_type": "code",
   "execution_count": null,
   "metadata": {},
   "outputs": [],
   "source": [
    "<!DOCTYPE html>\n",
    "<html>\n",
    "<head>\n",
    "  <title>IPL Score Predictor</title>\n",
    "    <link rel=\"stylesheet\" type=\"text/css\" href=\"{{ url_for('static', filename='styles.css') }}\">\n",
    "    <link rel=\"shortcut icon\" href=\"{{ url_for('static', filename='ipl-favicon.ico') }}\">\n",
    "        \n",
    "    <script src=\"https://kit.fontawesome.com/f13b0bc903.js\" crossorigin=\"anonymous\"></script>\n",
    "    </head>\n",
    "\n",
    "    <body>\n",
    "        <h1>  IPL Batting Score Predictor 🏆</h1> \n",
    "\n",
    "\t\t\t<!-- Result -->\n",
    "\t\t\t<div class=\"register\" >\n",
    "                <center>\n",
    "                <p style=\"font-size:30px;\">The final predicted score (range):<br> {{ lower_limit }} to {{ upper_limit }}</p><br><br>\n",
    "                </center>\n",
    "                \n",
    "\t\t     </div>\n",
    "        <br><br><br>\n",
    "              <center>\n",
    "                    <p style=\"font-size:20px;\">Made by Atharva Patil.</p><br>\n",
    "                \n",
    "                <a href=\"https://github.com/Atharva1604\"><i class=\"fab fa-github fa-lg contact-icon\"></i></a>&nbsp;&nbsp;\n",
    "               <a href=\"https://www.linkedin.com/in/atharva-patil-a79a84176/\"><i class=\"fab fa-linkedin fa-lg contact-icon\"></i></a><br><br>\n",
    "           </center>\n",
    "     <center>\n",
    "    <carousel>\n",
    "  <img src=\"{{ url_for('static', filename= 'mi1.jpg') }}\">\n",
    "  <img src=\"{{ url_for('static', filename= 'srh1.png') }}\">\n",
    "  <img src=\"{{ url_for('static', filename= 'rcb1.png') }}\">\n",
    "  <img src=\"{{ url_for('static', filename= 'dc1.png') }}\">\n",
    "  <img src=\"{{ url_for('static', filename= 'rr1.png') }}\">\n",
    "  <img src=\"{{ url_for('static', filename= 'kkr1.jpg') }}\">\n",
    "  <img src=\"{{ url_for('static', filename= 'kxip1.png') }}\">\n",
    "  <img src=\"{{ url_for('static', filename= 'csk1.png') }}\">\n",
    "</carousel>\n",
    "        \n",
    "    </center>\n",
    "    \n",
    "    </body>\n",
    "</html>"
   ]
  }
 ],
 "metadata": {
  "kernelspec": {
   "display_name": "Python 3",
   "language": "python",
   "name": "python3"
  },
  "language_info": {
   "codemirror_mode": {
    "name": "ipython",
    "version": 3
   },
   "file_extension": ".py",
   "mimetype": "text/x-python",
   "name": "python",
   "nbconvert_exporter": "python",
   "pygments_lexer": "ipython3",
   "version": "3.7.4"
  }
 },
 "nbformat": 4,
 "nbformat_minor": 2
}
